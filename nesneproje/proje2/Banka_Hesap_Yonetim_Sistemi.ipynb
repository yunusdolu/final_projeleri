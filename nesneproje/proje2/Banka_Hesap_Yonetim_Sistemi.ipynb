{
 "cells": [
  {
   "cell_type": "code",
   "execution_count": 15,
   "metadata": {},
   "outputs": [],
   "source": [
    "class Account:\n",
    "    accounts = []\n",
    "    def __init__(self, account_number, owner, balance):\n",
    "        self.account_number = account_number\n",
    "        self.owner = owner\n",
    "        self.balance = balance\n",
    "        Account.accounts.append(self)\n",
    "\n",
    "    def deposit(self, amount):\n",
    "        if amount > 0:\n",
    "            self.balance += amount\n",
    "            print(f\"{amount} yatırıldı. Yeni bakiye: {self.balance}\")\n",
    "\n",
    "    def withdraw(self, amount):\n",
    "        if amount > self.balance:\n",
    "            print(\"Yetersiz bakiye!\")\n",
    "        elif amount > 0:\n",
    "            self.balance -= amount\n",
    "            print(f\"{amount} çekildi. Kalan bakiye: {self.balance}\")\n",
    "\n",
    "    def view_balance(self):\n",
    "        print(f\"Hesap Sahibi: {self.owner}\")\n",
    "        print(f\"Hesap Numarası: {self.account_number}\")\n",
    "        print(f\"Bakiyeniz: {self.balance}\")\n",
    "\n",
    "class Bank:\n",
    "    transaction_history = []\n",
    "    @staticmethod\n",
    "    def display_bank_info():\n",
    "        print(\"Banka Hesap Yönetim Sistemi\")\n",
    "        print(f\"Toplam Hesap Sayısı: {len(Account.accounts)}\")\n",
    "\n",
    "    @staticmethod\n",
    "    def track_transaction(description):\n",
    "        Bank.transaction_history.append(description)\n",
    "        print(f\"İşlem Kaydedildi: {description}\")"
   ]
  },
  {
   "cell_type": "code",
   "execution_count": 16,
   "metadata": {},
   "outputs": [
    {
     "name": "stdout",
     "output_type": "stream",
     "text": [
      "500 yatırıldı. Yeni bakiye: 1500\n",
      "İşlem Kaydedildi: Ali Akın hesabına 500 TL yatırdı.\n",
      "300 çekildi. Kalan bakiye: 1700\n",
      "İşlem Kaydedildi: Ayşe Yıldırım hesabından 300 TL çekti.\n",
      "Hesap Sahibi: Ali Akın\n",
      "Hesap Numarası: 123456\n",
      "Bakiyeniz: 1500\n",
      "Hesap Sahibi: Ayşe Yıldırım\n",
      "Hesap Numarası: 654321\n",
      "Bakiyeniz: 1700\n",
      "Banka Hesap Yönetim Sistemi\n",
      "Toplam Hesap Sayısı: 2\n"
     ]
    }
   ],
   "source": [
    "# Örnek Kullanım\n",
    "account1 = Account(\"123456\", \"Ali Akın\", 1000)\n",
    "account2 = Account(\"654321\", \"Ayşe Yıldırım\", 2000)\n",
    "\n",
    "account1.deposit(500)\n",
    "Bank.track_transaction(\"Ali Akın hesabına 500 TL yatırdı.\")\n",
    "\n",
    "account2.withdraw(300)\n",
    "Bank.track_transaction(\"Ayşe Yıldırım hesabından 300 TL çekti.\")\n",
    "\n",
    "account1.view_balance()\n",
    "account2.view_balance()\n",
    "\n",
    "Bank.display_bank_info()"
   ]
  }
 ],
 "metadata": {
  "kernelspec": {
   "display_name": "Python 3",
   "language": "python",
   "name": "python3"
  },
  "language_info": {
   "codemirror_mode": {
    "name": "ipython",
    "version": 3
   },
   "file_extension": ".py",
   "mimetype": "text/x-python",
   "name": "python",
   "nbconvert_exporter": "python",
   "pygments_lexer": "ipython3",
   "version": "3.13.0"
  }
 },
 "nbformat": 4,
 "nbformat_minor": 4
}
