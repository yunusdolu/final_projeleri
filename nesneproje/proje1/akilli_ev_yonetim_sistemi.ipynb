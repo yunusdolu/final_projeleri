{
    "cells": [
        {
            "cell_type": "code",
            "execution_count": 1,
            "metadata": {},
            "outputs": [],
            "source": [
                "# Controllable arayüzü\n",
                "class Controllable:\n",
                "    def turn_on(self):\n",
                "        raise NotImplementedError(\"turn_on metodu tanımlanmalı\")\n",
                "\n",
                "    def turn_off(self):\n",
                "        raise NotImplementedError(\"turn_off metodu tanımlanmalı\")\n",
                "\n",
                "    def is_on(self):\n",
                "        raise NotImplementedError(\"is_on metodu tanımlanmalı\")\n"
            ]
        },
        {
            "cell_type": "code",
            "execution_count": 7,
            "metadata": {},
            "outputs": [],
            "source": [
                "# Appliance temel sınıfı\n",
                "class Appliance(Controllable):\n",
                "    def __init__(self):\n",
                "        self._status = False\n",
                "\n",
                "    def turn_on(self):\n",
                "        self._status = True\n",
                "        print(f\"{self.__class__.__name__} açıldı.\")\n",
                "\n",
                "    def turn_off(self):\n",
                "        self._status = False\n",
                "        print(f\"{self.__class__.__name__} kapatıldı.\")\n",
                "\n",
                "    def is_on(self):\n",
                "        return self._status\n"
            ]
        },
        {
            "cell_type": "code",
            "execution_count": 3,
            "metadata": {},
            "outputs": [],
            "source": [
                "# Light sınıfı\n",
                "class Light(Appliance):\n",
                "    def dim(self, level):\n",
                "        if self._status:\n",
                "            print(f\"Işık seviyesi {level}% olarak ayarlandı.\")\n",
                "        else:\n",
                "            print(\"Işık kapalı, önce açın.\")\n"
            ]
        },
        {
            "cell_type": "code",
            "execution_count": 8,
            "metadata": {},
            "outputs": [],
            "source": [
                "# Thermostat sınıfı\n",
                "class Thermostat(Appliance):\n",
                "    def __init__(self):\n",
                "        super().__init__()\n",
                "        self.temperature = 22  # Varsayılan sıcaklık\n",
                "\n",
                "    def set_temperature(self, temp):\n",
                "        if self._status:\n",
                "            self.temperature = temp\n",
                "            print(f\"Sıcaklık {temp}°C olarak ayarlandı.\")\n",
                "        else:\n",
                "            print(\"Termostat kapalı, önce açın.\")\n"
            ]
        },
        {
            "cell_type": "code",
            "execution_count": 9,
            "metadata": {},
            "outputs": [],
            "source": [
                "# SecuritySystem sınıfı\n",
                "class SecuritySystem(Appliance):\n",
                "    def __init__(self):\n",
                "        super().__init__()\n",
                "        self.alarm_status = False\n",
                "\n",
                "    def activate_alarm(self):\n",
                "        if self._status:\n",
                "            self.alarm_status = True\n",
                "            print(\"Alarm aktif edildi.\")\n",
                "        else:\n",
                "            print(\"Güvenlik sistemi kapalı, önce açın.\")\n",
                "\n",
                "    def deactivate_alarm(self):\n",
                "        self.alarm_status = False\n",
                "        print(\"Alarm devre dışı bırakıldı.\")\n"
            ]
        },
        {
            "cell_type": "code",
            "execution_count": 10,
            "metadata": {},
            "outputs": [
                {
                    "name": "stdout",
                    "output_type": "stream",
                    "text": [
                        "Light açıldı.\n",
                        "Işık seviyesi 50% olarak ayarlandı.\n",
                        "Thermostat açıldı.\n",
                        "Sıcaklık 25°C olarak ayarlandı.\n",
                        "SecuritySystem açıldı.\n",
                        "Alarm aktif edildi.\n",
                        "Işık durumu: Açık\n",
                        "Termostat sıcaklık: 25°C\n",
                        "Alarm durumu: Aktif\n"
                    ]
                }
            ],
            "source": [
                "# Konsol uygulaması\n",
                "if __name__ == \"__main__\":\n",
                "    light = Light()\n",
                "    thermostat = Thermostat()\n",
                "    security = SecuritySystem()\n",
                "\n",
                "    light.turn_on()\n",
                "    light.dim(50)\n",
                "\n",
                "    thermostat.turn_on()\n",
                "    thermostat.set_temperature(25)\n",
                "\n",
                "    security.turn_on()\n",
                "    security.activate_alarm()\n",
                "\n",
                "    print(f\"Işık durumu: {'Açık' if light.is_on() else 'Kapalı'}\")\n",
                "    print(f\"Termostat sıcaklık: {thermostat.temperature}°C\")\n",
                "    print(f\"Alarm durumu: {'Aktif' if security.alarm_status else 'Kapalı'}\")\n"
            ]
        }
    ],
    "metadata": {
        "kernelspec": {
            "display_name": "Python 3",
            "language": "python",
            "name": "python3"
        },
        "language_info": {
            "codemirror_mode": {
                "name": "ipython",
                "version": 3
            },
            "file_extension": ".py",
            "mimetype": "text/x-python",
            "name": "python",
            "nbconvert_exporter": "python",
            "pygments_lexer": "ipython3",
            "version": "3.13.0"
        }
    },
    "nbformat": 4,
    "nbformat_minor": 5
}
